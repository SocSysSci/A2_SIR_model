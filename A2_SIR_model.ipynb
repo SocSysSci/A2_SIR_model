{
  "nbformat": 4,
  "nbformat_minor": 0,
  "metadata": {
    "colab": {
      "name": "SocSysSci_03_SIR_model",
      "provenance": []
    },
    "kernelspec": {
      "name": "python3",
      "display_name": "Python 3"
    }
  },
  "cells": [
    {
      "cell_type": "markdown",
      "metadata": {
        "id": "iJH-n8s2VjXH"
      },
      "source": [
        "1. 必要なパッケージの読み込み"
      ]
    },
    {
      "cell_type": "code",
      "metadata": {
        "id": "MjSBzF6MVfJ3"
      },
      "source": [
        "import numpy as np\n",
        "import matplotlib.pyplot as plt"
      ],
      "execution_count": null,
      "outputs": []
    },
    {
      "cell_type": "markdown",
      "metadata": {
        "id": "LUn1VPGpVpiR"
      },
      "source": [
        "2. 実験をするための関数の準備"
      ]
    },
    {
      "cell_type": "code",
      "metadata": {
        "id": "NCoyY1xNVtaz"
      },
      "source": [
        "def calc_dS(t, S, I, R, a, b, mu):\n",
        "  val = -a * S[t] * I[t] + mu\n",
        "  return val\n",
        "\n",
        "def calc_dI(t, S, I, R, a, b, mu):\n",
        "  val = a * S[t] * I[t] - b * I[t]\n",
        "  return val\n",
        "\n",
        "def calc_dR(t, S, I, R, a, b, mu):\n",
        "  val = b * I[t] - mu\n",
        "  return val"
      ],
      "execution_count": null,
      "outputs": []
    },
    {
      "cell_type": "markdown",
      "metadata": {
        "id": "30lfXY8TWCwk"
      },
      "source": [
        "3. データ保存領域（変数）の準備"
      ]
    },
    {
      "cell_type": "code",
      "metadata": {
        "id": "U31wtUNNV-HM"
      },
      "source": [
        "T = 100\n",
        "S = np.zeros(T+1)\n",
        "I = np.zeros(T+1)\n",
        "R = np.zeros(T+1)"
      ],
      "execution_count": null,
      "outputs": []
    },
    {
      "cell_type": "markdown",
      "metadata": {
        "id": "b8MQMcF1WOTE"
      },
      "source": [
        "4. 初期値の設定"
      ]
    },
    {
      "cell_type": "code",
      "metadata": {
        "id": "TGxyFqMkWMGW"
      },
      "source": [
        "S[0] = 0.999\n",
        "I[0] = 0.001\n",
        "R[0] = 0\n",
        "a  = 0.90\n",
        "b  = 0.20\n",
        "mu = 0.05"
      ],
      "execution_count": null,
      "outputs": []
    },
    {
      "cell_type": "markdown",
      "metadata": {
        "id": "VkYbttsJWYv1"
      },
      "source": [
        "5. 実験"
      ]
    },
    {
      "cell_type": "code",
      "metadata": {
        "id": "Am6v_VPJWWYS"
      },
      "source": [
        "for t in np.arange(T):\n",
        "  dS = calc_dS(t, S, I, R, a, b, mu)\n",
        "  dI = calc_dI(t, S, I, R, a, b, mu)\n",
        "  dR = calc_dR(t, S, I, R, a, b, mu)\n",
        "  S[t+1] = S[t] + dS\n",
        "  I[t+1] = I[t] + dI\n",
        "  R[t+1] = R[t] + dR"
      ],
      "execution_count": null,
      "outputs": []
    },
    {
      "cell_type": "markdown",
      "metadata": {
        "id": "EuxZNFlEWuqN"
      },
      "source": [
        "6. 結果のプロット"
      ]
    },
    {
      "cell_type": "code",
      "metadata": {
        "id": "fv4L53SiWrO0"
      },
      "source": [
        "plt.plot(S, label=\"S\")\n",
        "plt.plot(I, label=\"I\")\n",
        "plt.plot(R, label=\"R\")\n",
        "plt.legend()"
      ],
      "execution_count": null,
      "outputs": []
    },
    {
      "cell_type": "code",
      "metadata": {
        "id": "ICwM0bn6W4fj"
      },
      "source": [
        ""
      ],
      "execution_count": null,
      "outputs": []
    }
  ]
}